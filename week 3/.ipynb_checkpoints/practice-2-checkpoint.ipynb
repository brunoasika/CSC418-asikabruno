{
 "cells": [
  {
   "cell_type": "code",
   "execution_count": null,
   "metadata": {},
   "outputs": [],
   "source": [
    "import numpy as np\n",
    "import matplotlib.pyplot as plt\n",
    "import cv2 as cv\n",
    "\n",
    "image = cv.imread('img/sst.jpg', 0)\n",
    "\n",
    "#plot the original image\n",
    "plt.subplot(1, 2, 1)\n",
    "plt.title(\"Original\")\n",
    "plt.imshow(image)\n",
    "\n",
    "rows, cols = image.shape\n",
    "M = np.float32([[1, 0, 0], [0, -1, rows], [0, 0, 1]])\n",
    "reflected_img = cv.warpPerspective(image, M, (int(cols), int(rows)))\n",
    "\n",
    "#plot the translated image\n",
    "plt.subplot(1, 2, 2)\n",
    "plt.title(\"reflected image\")\n",
    "plt.imshow(reflected_img)\n",
    "\n",
    "cv.imwrite('reflection_out.jpg', reflected_img)\n",
    "cv.waitKey(0)\n",
    "cv.destroyAllWindows()"
   ]
  }
 ],
 "metadata": {
  "kernelspec": {
   "display_name": "Python 3",
   "language": "python",
   "name": "python3"
  },
  "language_info": {
   "codemirror_mode": {
    "name": "ipython",
    "version": 3
   },
   "file_extension": ".py",
   "mimetype": "text/x-python",
   "name": "python",
   "nbconvert_exporter": "python",
   "pygments_lexer": "ipython3",
   "version": "3.8.5"
  }
 },
 "nbformat": 4,
 "nbformat_minor": 4
}
