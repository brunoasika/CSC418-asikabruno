{
 "cells": [
  {
   "cell_type": "code",
   "execution_count": null,
   "metadata": {},
   "outputs": [],
   "source": [
    "import numpy as np\n",
    "import matplotlib.pyplot as pt\n",
    "import cv2 as cv\n",
    "\n",
    "img = cv.imread('img/sst.jpg', 0)\n",
    "rows, cols = img.shape\n",
    "\n",
    "#plot the original image\n",
    "pt.subplot(1, 2, 1)\n",
    "pt.title(\"Original\")\n",
    "pt.imshow(img)\n",
    "\n",
    "M = np.float32([[1, 0.5, 0], [0.5, 1, 0], [0, 0, 1]])\n",
    "sheared_img = cv.warpPerspective(img, M, (int(cols*1.5), int(rows*1.5)))\n",
    "\n",
    "\n",
    "pt.subplot(1, 2, 2)\n",
    "pt.title(\"sheared image Y-axis\")\n",
    "pt.imshow(sheared_img)\n",
    "\n",
    "cv.imshow('img', sheared_img)\n",
    "cv.waitKey(0)\n",
    "cv.destroyAllWindows()"
   ]
  }
 ],
 "metadata": {
  "kernelspec": {
   "display_name": "Python 3",
   "language": "python",
   "name": "python3"
  },
  "language_info": {
   "codemirror_mode": {
    "name": "ipython",
    "version": 3
   },
   "file_extension": ".py",
   "mimetype": "text/x-python",
   "name": "python",
   "nbconvert_exporter": "python",
   "pygments_lexer": "ipython3",
   "version": "3.8.5"
  }
 },
 "nbformat": 4,
 "nbformat_minor": 4
}
