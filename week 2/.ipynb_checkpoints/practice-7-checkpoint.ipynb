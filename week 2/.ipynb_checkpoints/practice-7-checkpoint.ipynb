{
 "cells": [
  {
   "cell_type": "code",
   "execution_count": null,
   "metadata": {},
   "outputs": [],
   "source": [
    "#import the libraries\n",
    "import cv2\n",
    "import matplotlib.pyplot as plt\n",
    "import numpy as np\n",
    "\n",
    "#load the image\n",
    "image = cv2.imread('img/sst.jpg')\n",
    "\n",
    "#plot the original image\n",
    "plt.subplot(1, 2, 1)\n",
    "plt.title(\"original\")\n",
    "plt.imshow(image)\n",
    "\n",
    "#Inversing by subtracting from 255\n",
    "inverse_image = 255 - image\n",
    "\n",
    "#save the image\n",
    "cv2.imwrite('img/inverse_image.jpg', inverse_image)\n",
    "\n",
    "#plot the inverse image\n",
    "plt.subplot(1, 2, 2)\n",
    "plt.title(\"inverse color\")\n",
    "plt.imshow(inverse_image)\n",
    "plt.show()"
   ]
  }
 ],
 "metadata": {
  "kernelspec": {
   "display_name": "Python 3",
   "language": "python",
   "name": "python3"
  },
  "language_info": {
   "codemirror_mode": {
    "name": "ipython",
    "version": 3
   },
   "file_extension": ".py",
   "mimetype": "text/x-python",
   "name": "python",
   "nbconvert_exporter": "python",
   "pygments_lexer": "ipython3",
   "version": "3.8.5"
  }
 },
 "nbformat": 4,
 "nbformat_minor": 4
}
