{
 "cells": [
  {
   "cell_type": "code",
   "execution_count": 8,
   "metadata": {},
   "outputs": [
    {
     "name": "stdout",
     "output_type": "stream",
     "text": [
      "Enter your username (firstname): enase\n",
      "Enter your password: 7\n",
      "Login successful!\n",
      "Image for enase not found.\n"
     ]
    }
   ],
   "source": [
    "import cv2\n",
    "users = {\n",
    "    'enase': 'okonedo',  \n",
    "    'kingsley': 'ukaoha', \n",
    "    'chris': 'ogbechie',\n",
    "    'donatus': 'ogbuike',\n",
    "    'ikechukwu': 'obiaya',\n",
    "    'sola': 'oni',\n",
    "    'darlington': 'agholor',\n",
    "    'nneka': 'okekearu',\n",
    "    'adaora': 'onaga',\n",
    "    'peter': 'bamkole',\n",
    "}\n",
    "def login(username, password):\n",
    "    \n",
    "    password_sum = len(username)\n",
    "    \n",
    "    # Check if the password sum matches the expected sum\n",
    "    if password_sum == len(username):\n",
    "        return True\n",
    "    else:\n",
    "        return False\n",
    "\n",
    "def display_image(username):\n",
    "    image_formats = ['jpg', 'jpeg', 'png']\n",
    "    image = None\n",
    "    for ext in image_formats:\n",
    "        image_path = f'img/{username}.{ext}'\n",
    "        img = cv2.imread(image_path)\n",
    "        if img is not None:\n",
    "            break\n",
    "    \n",
    "    if img is not None:\n",
    "        cv2.imshow('User Image', img)\n",
    "        cv2.waitKey(0)\n",
    "        cv2.destroyAllWindows()\n",
    "    else:\n",
    "        print(f\"Image for {username} not found.\")\n",
    "\n",
    "def output():\n",
    "    username = input(\"Enter your username (firstname): \")\n",
    "    password = input(\"Enter your password: \")\n",
    "\n",
    "    if login(username, password):\n",
    "        print(\"Login successful!\")\n",
    "        display_image(username)\n",
    "    else:\n",
    "        print(\"Invalid username or password.\")\n",
    "\n",
    "output()"
   ]
  },
  {
   "cell_type": "code",
   "execution_count": null,
   "metadata": {},
   "outputs": [],
   "source": []
  },
  {
   "cell_type": "code",
   "execution_count": null,
   "metadata": {},
   "outputs": [],
   "source": []
  }
 ],
 "metadata": {
  "kernelspec": {
   "display_name": "Python 3",
   "language": "python",
   "name": "python3"
  },
  "language_info": {
   "codemirror_mode": {
    "name": "ipython",
    "version": 3
   },
   "file_extension": ".py",
   "mimetype": "text/x-python",
   "name": "python",
   "nbconvert_exporter": "python",
   "pygments_lexer": "ipython3",
   "version": "3.8.5"
  }
 },
 "nbformat": 4,
 "nbformat_minor": 4
}
