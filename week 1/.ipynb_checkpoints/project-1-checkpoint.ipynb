{
 "cells": [
  {
   "cell_type": "code",
   "execution_count": 12,
   "metadata": {},
   "outputs": [
    {
     "name": "stdout",
     "output_type": "stream",
     "text": [
      "Enter your username (firstname): chris\n",
      "Enter your password: 8\n",
      "ogbechie\n",
      "<class 'int'>\n",
      "<class 'int'>\n",
      "valid username\n"
     ]
    }
   ],
   "source": [
    "import cv2\n",
    "users = {\n",
    "    'enase': 'okonedo',  \n",
    "    'kingsley': 'ukaoha', \n",
    "    'chris': 'ogbechie',\n",
    "    'donatus': 'ogbuike',\n",
    "    'ikechukwu': 'obiaya',\n",
    "    'sola': 'oni',\n",
    "    'darlington': 'agholor',\n",
    "    'nneka': 'okekearu',\n",
    "    'adaora': 'onaga',\n",
    "    'peter': 'bamkole',\n",
    "}\n",
    "def login(username, password):\n",
    "    if username in users:\n",
    "        surname = users[username]\n",
    "        password_sum = len(surname)\n",
    "        print(surname)\n",
    "        print(type(password_sum))\n",
    "        print(type(password))\n",
    "    \n",
    "  \n",
    "    \n",
    "        if password_sum == password:\n",
    "            display_images(username)\n",
    "            print(\"valid username\")\n",
    "                \n",
    "        else:\n",
    "            print(\"Invalid username\")  \n",
    "\n",
    "def display_images(username):\n",
    "    image_formats = ['jpg', 'jpeg', 'png']\n",
    "    image = None\n",
    "    for ext in image_formats:\n",
    "        path = f'img/{username}.{ext}'\n",
    "        image = cv2.imread(path)\n",
    "        break\n",
    "    if image is not None:\n",
    "        cv2.imshow('User Image', image)\n",
    "        cv2.waitKey(0)\n",
    "        cv2.destroyAllWindows()\n",
    "    else:\n",
    "        print(f\"Image for username {username} not found.\")\n",
    "\n",
    "def output():\n",
    "    username = input(\"Enter your username (firstname): \")\n",
    "    password = int(input(\"Enter your password: \"))\n",
    "    login(username, password)\n",
    "       \n",
    "\n",
    "output()"
   ]
  },
  {
   "cell_type": "code",
   "execution_count": null,
   "metadata": {},
   "outputs": [],
   "source": []
  },
  {
   "cell_type": "code",
   "execution_count": null,
   "metadata": {},
   "outputs": [],
   "source": []
  }
 ],
 "metadata": {
  "kernelspec": {
   "display_name": "Python 3",
   "language": "python",
   "name": "python3"
  },
  "language_info": {
   "codemirror_mode": {
    "name": "ipython",
    "version": 3
   },
   "file_extension": ".py",
   "mimetype": "text/x-python",
   "name": "python",
   "nbconvert_exporter": "python",
   "pygments_lexer": "ipython3",
   "version": "3.8.5"
  }
 },
 "nbformat": 4,
 "nbformat_minor": 4
}
