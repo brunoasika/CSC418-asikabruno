{
 "cells": [
  {
   "cell_type": "code",
   "execution_count": 2,
   "metadata": {},
   "outputs": [
    {
     "name": "stdout",
     "output_type": "stream",
     "text": [
      "Before saving image:\n",
      "['paulogo.png']\n",
      "After saving image:\n",
      "['paulogo.png']\n",
      "Successfully saved\n"
     ]
    }
   ],
   "source": [
    "# python program to explain cv2.imwrite() method\n",
    "\n",
    "#importing cv2\n",
    "import cv2\n",
    "\n",
    "#importing os module\n",
    "import os\n",
    "\n",
    "#image path\n",
    "image_path = r'C:\\Users\\hp\\Documents\\CSC418codes\\img\\paulogo.png'\n",
    "\n",
    "# image directory\n",
    "directory = r'C:\\Users\\hp\\Documents\\CSC418codes\\img'\n",
    "\n",
    "# using cv2.imread() method to read the image\n",
    "img = cv2.imread(image_path, 0)\n",
    "\n",
    "#change the current directory to specified directory\n",
    "os.chdir(directory)\n",
    "\n",
    "#list files and directories\n",
    "print(\"Before saving image:\")\n",
    "print(os.listdir(directory))\n",
    "\n",
    "# filename\n",
    "filename = 'paulogo.png'\n",
    "\n",
    "#using cv2.imwrite() method save the image\n",
    "cv2.imwrite(filename, img)\n",
    "\n",
    "#list files and directories\n",
    "print(\"After saving image:\")\n",
    "print(os.listdir(directory))\n",
    "\n",
    "print('Successfully saved')"
   ]
  },
  {
   "cell_type": "code",
   "execution_count": null,
   "metadata": {},
   "outputs": [],
   "source": []
  }
 ],
 "metadata": {
  "kernelspec": {
   "display_name": "Python 3",
   "language": "python",
   "name": "python3"
  },
  "language_info": {
   "codemirror_mode": {
    "name": "ipython",
    "version": 3
   },
   "file_extension": ".py",
   "mimetype": "text/x-python",
   "name": "python",
   "nbconvert_exporter": "python",
   "pygments_lexer": "ipython3",
   "version": "3.8.5"
  }
 },
 "nbformat": 4,
 "nbformat_minor": 4
}
